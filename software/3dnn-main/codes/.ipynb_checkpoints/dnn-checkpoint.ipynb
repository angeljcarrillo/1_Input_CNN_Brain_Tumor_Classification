{
 "cells": [
  {
   "cell_type": "code",
   "execution_count": 1,
   "metadata": {},
   "outputs": [],
   "source": [
    "import os\n",
    "import numpy as np\n",
    "import tensorflow as tf\n",
    "import nibabel as nib\n",
    "from scipy import ndimage\n",
    "from tensorflow import keras\n",
    "from tensorflow.keras import layers\n",
    "import re\n",
    "import matplotlib.pyplot as plt\n",
    "import matplotlib as mpl\n",
    "import random"
   ]
  },
  {
   "cell_type": "code",
   "execution_count": 2,
   "metadata": {},
   "outputs": [
    {
     "name": "stdout",
     "output_type": "stream",
     "text": [
      "Num GPUs Available:  1\n"
     ]
    }
   ],
   "source": [
    "print(\"Num GPUs Available: \", len(tf.config.list_physical_devices('GPU')))"
   ]
  },
  {
   "cell_type": "code",
   "execution_count": 3,
   "metadata": {},
   "outputs": [],
   "source": [
    "def remove_store(base_path, files):\n",
    "    new_files = []\n",
    "    for j in files:\n",
    "        b_path = os.path.join(base_path, j)\n",
    "        if(os.path.isdir(b_path)):\n",
    "            new_files.append(b_path)\n",
    "    return new_files"
   ]
  },
  {
   "cell_type": "code",
   "execution_count": 4,
   "metadata": {},
   "outputs": [],
   "source": [
    "def get_data(tumor='LGG', pattern='t1'):\n",
    "    # Get patient folders\n",
    "    base_path = os.path.join('..', 'data', tumor)\n",
    "    patients = os.listdir(base_path)\n",
    "    p2 = remove_store(base_path, patients)\n",
    "    #print(p2)\n",
    "    #print(patients)\n",
    "    urls = []\n",
    "    for i in p2:\n",
    "        # Get files for each patient\n",
    "        # patient_path = os.path.join(base_path, i)\n",
    "        files = [v for v in os.listdir(i) if v != '.DS_Store']\n",
    "        #print(files)        \n",
    "        for j in files:\n",
    "            # m = re.match(r\"^(?!.*(t2|flair|seg)).*\", j)\n",
    "            m = pattern in j\n",
    "            if m:\n",
    "                urls.append(os.path.join(i, j))\n",
    "    # print(urls)\n",
    "    if(pattern == 't1'):\n",
    "        new_urls = [v for v in urls if 't1ce' not in v]\n",
    "    else:\n",
    "        new_urls = urls\n",
    "    return new_urls"
   ]
  },
  {
   "cell_type": "code",
   "execution_count": 5,
   "metadata": {},
   "outputs": [],
   "source": [
    "def read_nifti_file(filepath):\n",
    "    \"\"\"Read and load volume\"\"\"\n",
    "    # Read file\n",
    "    scan = nib.load(filepath)\n",
    "    # Get raw data\n",
    "    scan = scan.get_fdata()\n",
    "    return scan"
   ]
  },
  {
   "cell_type": "code",
   "execution_count": 6,
   "metadata": {},
   "outputs": [],
   "source": [
    "def resize_volume(img):\n",
    "    \"\"\"Resize across z-axis\"\"\"\n",
    "    # Set the desired depth\n",
    "    desired_depth = 64 # SLICES\n",
    "    desired_width = 128\n",
    "    desired_height = 128\n",
    "    # Get current depth\n",
    "    current_depth = img.shape[-1]\n",
    "    current_width = img.shape[0]\n",
    "    current_height = img.shape[1]\n",
    "    # Compute depth factor\n",
    "    depth = current_depth / desired_depth\n",
    "    width = current_width / desired_width\n",
    "    height = current_height / desired_height\n",
    "    depth_factor = 1 / depth\n",
    "    width_factor = 1 / width\n",
    "    height_factor = 1 / height\n",
    "    # Rotate\n",
    "    img = ndimage.rotate(img, 90, reshape=False)\n",
    "    # Resize across z-axis\n",
    "    img = ndimage.zoom(\n",
    "        img, (width_factor, height_factor, depth_factor), order=1)\n",
    "    return img"
   ]
  },
  {
   "cell_type": "code",
   "execution_count": 7,
   "metadata": {},
   "outputs": [],
   "source": [
    "def process_scan(path):\n",
    "    \"\"\"Read and resize volume\"\"\"\n",
    "    # Read scan\n",
    "    volume = read_nifti_file(path)\n",
    "    # Normalize\n",
    "    # Resize width, height and depth\n",
    "    volume = resize_volume(volume)\n",
    "    return volume"
   ]
  },
  {
   "cell_type": "code",
   "execution_count": 79,
   "metadata": {},
   "outputs": [],
   "source": [
    "## LGG HGG\n",
    "\n",
    "low_grade_paths = get_data(tumor='LGG', pattern='t1')\n",
    "high_grade_paths = get_data(tumor='HGG', pattern='t1')"
   ]
  },
  {
   "cell_type": "code",
   "execution_count": 80,
   "metadata": {
    "collapsed": true
   },
   "outputs": [
    {
     "data": {
      "text/plain": [
       "['..\\\\data\\\\LGG\\\\BraTS20_Training_260\\\\BraTS20_Training_260_t1.nii.gz',\n",
       " '..\\\\data\\\\LGG\\\\BraTS20_Training_261\\\\BraTS20_Training_261_t1.nii.gz',\n",
       " '..\\\\data\\\\LGG\\\\BraTS20_Training_262\\\\BraTS20_Training_262_t1.nii.gz',\n",
       " '..\\\\data\\\\LGG\\\\BraTS20_Training_263\\\\BraTS20_Training_263_t1.nii.gz',\n",
       " '..\\\\data\\\\LGG\\\\BraTS20_Training_264\\\\BraTS20_Training_264_t1.nii.gz',\n",
       " '..\\\\data\\\\LGG\\\\BraTS20_Training_265\\\\BraTS20_Training_265_t1.nii.gz',\n",
       " '..\\\\data\\\\LGG\\\\BraTS20_Training_266\\\\BraTS20_Training_266_t1.nii.gz',\n",
       " '..\\\\data\\\\LGG\\\\BraTS20_Training_267\\\\BraTS20_Training_267_t1.nii.gz',\n",
       " '..\\\\data\\\\LGG\\\\BraTS20_Training_268\\\\BraTS20_Training_268_t1.nii.gz',\n",
       " '..\\\\data\\\\LGG\\\\BraTS20_Training_269\\\\BraTS20_Training_269_t1.nii.gz',\n",
       " '..\\\\data\\\\LGG\\\\BraTS20_Training_270\\\\BraTS20_Training_270_t1.nii.gz',\n",
       " '..\\\\data\\\\LGG\\\\BraTS20_Training_271\\\\BraTS20_Training_271_t1.nii.gz',\n",
       " '..\\\\data\\\\LGG\\\\BraTS20_Training_272\\\\BraTS20_Training_272_t1.nii.gz',\n",
       " '..\\\\data\\\\LGG\\\\BraTS20_Training_273\\\\BraTS20_Training_273_t1.nii.gz',\n",
       " '..\\\\data\\\\LGG\\\\BraTS20_Training_274\\\\BraTS20_Training_274_t1.nii.gz',\n",
       " '..\\\\data\\\\LGG\\\\BraTS20_Training_275\\\\BraTS20_Training_275_t1.nii.gz',\n",
       " '..\\\\data\\\\LGG\\\\BraTS20_Training_276\\\\BraTS20_Training_276_t1.nii.gz',\n",
       " '..\\\\data\\\\LGG\\\\BraTS20_Training_277\\\\BraTS20_Training_277_t1.nii.gz',\n",
       " '..\\\\data\\\\LGG\\\\BraTS20_Training_278\\\\BraTS20_Training_278_t1.nii.gz',\n",
       " '..\\\\data\\\\LGG\\\\BraTS20_Training_279\\\\BraTS20_Training_279_t1.nii.gz',\n",
       " '..\\\\data\\\\LGG\\\\BraTS20_Training_280\\\\BraTS20_Training_280_t1.nii.gz',\n",
       " '..\\\\data\\\\LGG\\\\BraTS20_Training_281\\\\BraTS20_Training_281_t1.nii.gz',\n",
       " '..\\\\data\\\\LGG\\\\BraTS20_Training_282\\\\BraTS20_Training_282_t1.nii.gz',\n",
       " '..\\\\data\\\\LGG\\\\BraTS20_Training_283\\\\BraTS20_Training_283_t1.nii.gz',\n",
       " '..\\\\data\\\\LGG\\\\BraTS20_Training_284\\\\BraTS20_Training_284_t1.nii.gz',\n",
       " '..\\\\data\\\\LGG\\\\BraTS20_Training_285\\\\BraTS20_Training_285_t1.nii.gz',\n",
       " '..\\\\data\\\\LGG\\\\BraTS20_Training_286\\\\BraTS20_Training_286_t1.nii.gz',\n",
       " '..\\\\data\\\\LGG\\\\BraTS20_Training_287\\\\BraTS20_Training_287_t1.nii.gz',\n",
       " '..\\\\data\\\\LGG\\\\BraTS20_Training_288\\\\BraTS20_Training_288_t1.nii.gz',\n",
       " '..\\\\data\\\\LGG\\\\BraTS20_Training_289\\\\BraTS20_Training_289_t1.nii.gz',\n",
       " '..\\\\data\\\\LGG\\\\BraTS20_Training_290\\\\BraTS20_Training_290_t1.nii.gz',\n",
       " '..\\\\data\\\\LGG\\\\BraTS20_Training_291\\\\BraTS20_Training_291_t1.nii.gz',\n",
       " '..\\\\data\\\\LGG\\\\BraTS20_Training_292\\\\BraTS20_Training_292_t1.nii.gz',\n",
       " '..\\\\data\\\\LGG\\\\BraTS20_Training_293\\\\BraTS20_Training_293_t1.nii.gz',\n",
       " '..\\\\data\\\\LGG\\\\BraTS20_Training_294\\\\BraTS20_Training_294_t1.nii.gz',\n",
       " '..\\\\data\\\\LGG\\\\BraTS20_Training_295\\\\BraTS20_Training_295_t1.nii.gz',\n",
       " '..\\\\data\\\\LGG\\\\BraTS20_Training_296\\\\BraTS20_Training_296_t1.nii.gz',\n",
       " '..\\\\data\\\\LGG\\\\BraTS20_Training_297\\\\BraTS20_Training_297_t1.nii.gz',\n",
       " '..\\\\data\\\\LGG\\\\BraTS20_Training_298\\\\BraTS20_Training_298_t1.nii.gz',\n",
       " '..\\\\data\\\\LGG\\\\BraTS20_Training_299\\\\BraTS20_Training_299_t1.nii.gz',\n",
       " '..\\\\data\\\\LGG\\\\BraTS20_Training_300\\\\BraTS20_Training_300_t1.nii.gz',\n",
       " '..\\\\data\\\\LGG\\\\BraTS20_Training_301\\\\BraTS20_Training_301_t1.nii.gz',\n",
       " '..\\\\data\\\\LGG\\\\BraTS20_Training_302\\\\BraTS20_Training_302_t1.nii.gz',\n",
       " '..\\\\data\\\\LGG\\\\BraTS20_Training_303\\\\BraTS20_Training_303_t1.nii.gz',\n",
       " '..\\\\data\\\\LGG\\\\BraTS20_Training_304\\\\BraTS20_Training_304_t1.nii.gz',\n",
       " '..\\\\data\\\\LGG\\\\BraTS20_Training_305\\\\BraTS20_Training_305_t1.nii.gz',\n",
       " '..\\\\data\\\\LGG\\\\BraTS20_Training_306\\\\BraTS20_Training_306_t1.nii.gz',\n",
       " '..\\\\data\\\\LGG\\\\BraTS20_Training_307\\\\BraTS20_Training_307_t1.nii.gz',\n",
       " '..\\\\data\\\\LGG\\\\BraTS20_Training_308\\\\BraTS20_Training_308_t1.nii.gz',\n",
       " '..\\\\data\\\\LGG\\\\BraTS20_Training_309\\\\BraTS20_Training_309_t1.nii.gz',\n",
       " '..\\\\data\\\\LGG\\\\BraTS20_Training_310\\\\BraTS20_Training_310_t1.nii.gz',\n",
       " '..\\\\data\\\\LGG\\\\BraTS20_Training_311\\\\BraTS20_Training_311_t1.nii.gz',\n",
       " '..\\\\data\\\\LGG\\\\BraTS20_Training_312\\\\BraTS20_Training_312_t1.nii.gz',\n",
       " '..\\\\data\\\\LGG\\\\BraTS20_Training_313\\\\BraTS20_Training_313_t1.nii.gz',\n",
       " '..\\\\data\\\\LGG\\\\BraTS20_Training_314\\\\BraTS20_Training_314_t1.nii.gz',\n",
       " '..\\\\data\\\\LGG\\\\BraTS20_Training_315\\\\BraTS20_Training_315_t1.nii.gz',\n",
       " '..\\\\data\\\\LGG\\\\BraTS20_Training_316\\\\BraTS20_Training_316_t1.nii.gz',\n",
       " '..\\\\data\\\\LGG\\\\BraTS20_Training_317\\\\BraTS20_Training_317_t1.nii.gz',\n",
       " '..\\\\data\\\\LGG\\\\BraTS20_Training_318\\\\BraTS20_Training_318_t1.nii.gz',\n",
       " '..\\\\data\\\\LGG\\\\BraTS20_Training_319\\\\BraTS20_Training_319_t1.nii.gz',\n",
       " '..\\\\data\\\\LGG\\\\BraTS20_Training_320\\\\BraTS20_Training_320_t1.nii.gz',\n",
       " '..\\\\data\\\\LGG\\\\BraTS20_Training_321\\\\BraTS20_Training_321_t1.nii.gz',\n",
       " '..\\\\data\\\\LGG\\\\BraTS20_Training_322\\\\BraTS20_Training_322_t1.nii.gz',\n",
       " '..\\\\data\\\\LGG\\\\BraTS20_Training_323\\\\BraTS20_Training_323_t1.nii.gz',\n",
       " '..\\\\data\\\\LGG\\\\BraTS20_Training_324\\\\BraTS20_Training_324_t1.nii.gz',\n",
       " '..\\\\data\\\\LGG\\\\BraTS20_Training_325\\\\BraTS20_Training_325_t1.nii.gz',\n",
       " '..\\\\data\\\\LGG\\\\BraTS20_Training_326\\\\BraTS20_Training_326_t1.nii.gz',\n",
       " '..\\\\data\\\\LGG\\\\BraTS20_Training_327\\\\BraTS20_Training_327_t1.nii.gz',\n",
       " '..\\\\data\\\\LGG\\\\BraTS20_Training_328\\\\BraTS20_Training_328_t1.nii.gz',\n",
       " '..\\\\data\\\\LGG\\\\BraTS20_Training_329\\\\BraTS20_Training_329_t1.nii.gz',\n",
       " '..\\\\data\\\\LGG\\\\BraTS20_Training_330\\\\BraTS20_Training_330_t1.nii.gz',\n",
       " '..\\\\data\\\\LGG\\\\BraTS20_Training_331\\\\BraTS20_Training_331_t1.nii.gz',\n",
       " '..\\\\data\\\\LGG\\\\BraTS20_Training_332\\\\BraTS20_Training_332_t1.nii.gz',\n",
       " '..\\\\data\\\\LGG\\\\BraTS20_Training_333\\\\BraTS20_Training_333_t1.nii.gz',\n",
       " '..\\\\data\\\\LGG\\\\BraTS20_Training_334\\\\BraTS20_Training_334_t1.nii.gz',\n",
       " '..\\\\data\\\\LGG\\\\BraTS20_Training_335\\\\BraTS20_Training_335_t1.nii.gz']"
      ]
     },
     "execution_count": 80,
     "metadata": {},
     "output_type": "execute_result"
    }
   ],
   "source": [
    "low_grade_paths"
   ]
  },
  {
   "cell_type": "code",
   "execution_count": 81,
   "metadata": {},
   "outputs": [],
   "source": [
    "# Read and process the scans.\n",
    "# Each scan is resized across height, width, and depth and rescaled.\n",
    "low_grade_scans = np.array([process_scan(path) for path in low_grade_paths])\n",
    "high_grade_scans = np.array([process_scan(path) for path in high_grade_paths])"
   ]
  },
  {
   "cell_type": "code",
   "execution_count": 82,
   "metadata": {},
   "outputs": [
    {
     "data": {
      "text/plain": [
       "(128, 128, 64)"
      ]
     },
     "execution_count": 82,
     "metadata": {},
     "output_type": "execute_result"
    }
   ],
   "source": [
    "low_grade_scans[0].shape"
   ]
  },
  {
   "cell_type": "code",
   "execution_count": 83,
   "metadata": {},
   "outputs": [
    {
     "data": {
      "text/plain": [
       "<matplotlib.image.AxesImage at 0x177fc5bbfa0>"
      ]
     },
     "execution_count": 83,
     "metadata": {},
     "output_type": "execute_result"
    },
    {
     "data": {
      "image/png": "[encoded data removed]",
      "text/plain": [
       "<Figure size 432x288 with 1 Axes>"
      ]
     },
     "metadata": {
      "needs_background": "light"
     },
     "output_type": "display_data"
    }
   ],
   "source": [
    "plt.imshow(low_grade_scans[0][:,:,30], cmap=mpl.cm.gray)"
   ]
  },
  {
   "cell_type": "code",
   "execution_count": 84,
   "metadata": {},
   "outputs": [],
   "source": [
    "# For the CT scans having presence of viral pneumonia\n",
    "# assign 1, for the normal ones assign 0.\n",
    "low_grade_labels = np.array([1 for _ in range(len(low_grade_scans))])\n",
    "high_grade_labels = np.array([0 for _ in range(len(high_grade_scans))])"
   ]
  },
  {
   "cell_type": "code",
   "execution_count": 85,
   "metadata": {},
   "outputs": [],
   "source": [
    "# Split data in the ratio 70-30 for training and validation.\n",
    "x_train = np.concatenate((low_grade_scans[:50], high_grade_scans[:200]), axis=0)\n",
    "y_train = np.concatenate((low_grade_labels[:50], high_grade_labels[:200]), axis=0)\n",
    "x_val = np.concatenate((low_grade_scans[50:], high_grade_scans[200:]), axis=0)\n",
    "y_val = np.concatenate((low_grade_labels[50:], high_grade_labels[200:]), axis=0)"
   ]
  },
  {
   "cell_type": "code",
   "execution_count": 86,
   "metadata": {},
   "outputs": [],
   "source": [
    "def train_preprocessing(volume, label):\n",
    "    \"\"\"Process training data by rotating and adding a channel.\"\"\"\n",
    "    volume = tf.expand_dims(volume, axis=3)\n",
    "    return volume, label\n",
    "\n",
    "\n",
    "def validation_preprocessing(volume, label):\n",
    "    \"\"\"Process validation data by only adding a channel.\"\"\"\n",
    "    volume = tf.expand_dims(volume, axis=3)\n",
    "    return volume, label"
   ]
  },
  {
   "cell_type": "code",
   "execution_count": 87,
   "metadata": {},
   "outputs": [],
   "source": [
    "# Define data loaders.\n",
    "train_loader = tf.data.Dataset.from_tensor_slices((x_train, y_train))\n",
    "validation_loader = tf.data.Dataset.from_tensor_slices((x_val, y_val))"
   ]
  },
  {
   "cell_type": "code",
   "execution_count": 97,
   "metadata": {},
   "outputs": [],
   "source": [
    "batch_size = 2\n",
    "train_dataset = (\n",
    "    train_loader.shuffle(len(x_train))\n",
    "    .map(train_preprocessing)\n",
    "    .batch(batch_size)\n",
    "    .prefetch(2)\n",
    ")\n",
    "# Only rescale.\n",
    "validation_dataset = (\n",
    "    validation_loader.shuffle(len(x_val))\n",
    "    .map(validation_preprocessing)\n",
    "    .batch(batch_size)\n",
    "    .prefetch(2)\n",
    ")"
   ]
  },
  {
   "cell_type": "code",
   "execution_count": 8,
   "metadata": {},
   "outputs": [
    {
     "name": "stdout",
     "output_type": "stream",
     "text": [
      "Model: \"3dcnn\"\n",
      "_________________________________________________________________\n",
      "Layer (type)                 Output Shape              Param #   \n",
      "=================================================================\n",
      "input_1 (InputLayer)         [(None, 128, 128, 64, 1)] 0         \n",
      "_________________________________________________________________\n",
      "conv3d (Conv3D)              (None, 126, 126, 62, 64)  1792      \n",
      "_________________________________________________________________\n",
      "max_pooling3d (MaxPooling3D) (None, 63, 63, 31, 64)    0         \n",
      "_________________________________________________________________\n",
      "batch_normalization (BatchNo (None, 63, 63, 31, 64)    256       \n",
      "_________________________________________________________________\n",
      "conv3d_1 (Conv3D)            (None, 61, 61, 29, 64)    110656    \n",
      "_________________________________________________________________\n",
      "max_pooling3d_1 (MaxPooling3 (None, 30, 30, 14, 64)    0         \n",
      "_________________________________________________________________\n",
      "batch_normalization_1 (Batch (None, 30, 30, 14, 64)    256       \n",
      "_________________________________________________________________\n",
      "conv3d_2 (Conv3D)            (None, 28, 28, 12, 128)   221312    \n",
      "_________________________________________________________________\n",
      "max_pooling3d_2 (MaxPooling3 (None, 14, 14, 6, 128)    0         \n",
      "_________________________________________________________________\n",
      "batch_normalization_2 (Batch (None, 14, 14, 6, 128)    512       \n",
      "_________________________________________________________________\n",
      "conv3d_3 (Conv3D)            (None, 12, 12, 4, 256)    884992    \n",
      "_________________________________________________________________\n",
      "max_pooling3d_3 (MaxPooling3 (None, 6, 6, 2, 256)      0         \n",
      "_________________________________________________________________\n",
      "batch_normalization_3 (Batch (None, 6, 6, 2, 256)      1024      \n",
      "_________________________________________________________________\n",
      "global_average_pooling3d (Gl (None, 256)               0         \n",
      "_________________________________________________________________\n",
      "dense (Dense)                (None, 512)               131584    \n",
      "_________________________________________________________________\n",
      "dropout (Dropout)            (None, 512)               0         \n",
      "_________________________________________________________________\n",
      "dense_1 (Dense)              (None, 1)                 513       \n",
      "=================================================================\n",
      "Total params: 1,352,897\n",
      "Trainable params: 1,351,873\n",
      "Non-trainable params: 1,024\n",
      "_________________________________________________________________\n"
     ]
    }
   ],
   "source": [
    "def get_model(width=128, height=128, depth=64):\n",
    "    \"\"\"Build a 3D convolutional neural network model.\"\"\"\n",
    "\n",
    "    inputs = keras.Input((width, height, depth, 1))\n",
    "\n",
    "    x = layers.Conv3D(filters=64, kernel_size=3, activation=\"relu\")(inputs)\n",
    "    x = layers.MaxPool3D(pool_size=2)(x)\n",
    "    x = layers.BatchNormalization()(x)\n",
    "\n",
    "    x = layers.Conv3D(filters=64, kernel_size=3, activation=\"relu\")(x)\n",
    "    x = layers.MaxPool3D(pool_size=2)(x)\n",
    "    x = layers.BatchNormalization()(x)\n",
    "\n",
    "    x = layers.Conv3D(filters=128, kernel_size=3, activation=\"relu\")(x)\n",
    "    x = layers.MaxPool3D(pool_size=2)(x)\n",
    "    x = layers.BatchNormalization()(x)\n",
    "\n",
    "    x = layers.Conv3D(filters=256, kernel_size=3, activation=\"relu\")(x)\n",
    "    x = layers.MaxPool3D(pool_size=2)(x)\n",
    "    x = layers.BatchNormalization()(x)\n",
    "\n",
    "    x = layers.GlobalAveragePooling3D()(x)\n",
    "    x = layers.Dense(units=512, activation=\"relu\")(x)\n",
    "    x = layers.Dropout(0.3)(x)\n",
    "\n",
    "    outputs = layers.Dense(units=1, activation=\"sigmoid\")(x)\n",
    "\n",
    "    # Define the model.\n",
    "    model = keras.Model(inputs, outputs, name=\"3dcnn\")\n",
    "    return model\n",
    "\n",
    "\n",
    "# Build model.\n",
    "model = get_model(width=128, height=128, depth=64)\n",
    "model.summary()"
   ]
  },
  {
   "cell_type": "code",
   "execution_count": 99,
   "metadata": {},
   "outputs": [
    {
     "name": "stdout",
     "output_type": "stream",
     "text": [
      "Epoch 1/20\n",
      "125/125 - 39s - loss: 0.6114 - acc: 0.7640 - val_loss: 1.5954 - val_acc: 0.7712\n",
      "Epoch 2/20\n",
      "125/125 - 37s - loss: 0.5528 - acc: 0.8000 - val_loss: 2.8566 - val_acc: 0.7797\n",
      "Epoch 3/20\n",
      "125/125 - 37s - loss: 0.5244 - acc: 0.8120 - val_loss: 2.4814 - val_acc: 0.7797\n",
      "Epoch 4/20\n",
      "125/125 - 37s - loss: 0.5202 - acc: 0.7600 - val_loss: 3.9430 - val_acc: 0.7712\n",
      "Epoch 5/20\n",
      "125/125 - 37s - loss: 0.4820 - acc: 0.8200 - val_loss: 1.9041 - val_acc: 0.7797\n",
      "Epoch 6/20\n",
      "125/125 - 37s - loss: 0.4952 - acc: 0.8000 - val_loss: 1.5508 - val_acc: 0.6441\n",
      "Epoch 7/20\n",
      "125/125 - 38s - loss: 0.4715 - acc: 0.7880 - val_loss: 2.5211 - val_acc: 0.7797\n",
      "Epoch 8/20\n",
      "125/125 - 38s - loss: 0.4631 - acc: 0.8040 - val_loss: 2.8817 - val_acc: 0.7712\n",
      "Epoch 9/20\n",
      "125/125 - 38s - loss: 0.4929 - acc: 0.7960 - val_loss: 2.7206 - val_acc: 0.7288\n",
      "Epoch 10/20\n",
      "125/125 - 38s - loss: 0.4563 - acc: 0.8000 - val_loss: 1.6556 - val_acc: 0.7542\n",
      "Epoch 11/20\n",
      "125/125 - 38s - loss: 0.4505 - acc: 0.8160 - val_loss: 1.5146 - val_acc: 0.7373\n",
      "Epoch 12/20\n",
      "125/125 - 38s - loss: 0.4432 - acc: 0.8160 - val_loss: 4.5906 - val_acc: 0.7712\n",
      "Epoch 13/20\n",
      "125/125 - 38s - loss: 0.4624 - acc: 0.7680 - val_loss: 4.6808 - val_acc: 0.5932\n",
      "Epoch 14/20\n",
      "125/125 - 38s - loss: 0.4334 - acc: 0.8240 - val_loss: 3.7027 - val_acc: 0.6441\n",
      "Epoch 15/20\n",
      "125/125 - 38s - loss: 0.4725 - acc: 0.8000 - val_loss: 3.9470 - val_acc: 0.6017\n",
      "Epoch 16/20\n",
      "125/125 - 38s - loss: 0.4002 - acc: 0.8440 - val_loss: 3.4391 - val_acc: 0.7797\n",
      "Epoch 17/20\n",
      "125/125 - 38s - loss: 0.4054 - acc: 0.8200 - val_loss: 1.9474 - val_acc: 0.6441\n"
     ]
    },
    {
     "data": {
      "text/plain": [
       "<tensorflow.python.keras.callbacks.History at 0x17a608216a0>"
      ]
     },
     "execution_count": 99,
     "metadata": {},
     "output_type": "execute_result"
    }
   ],
   "source": [
    "# Train model\n",
    "# Compile model.\n",
    "initial_learning_rate = 0.0001\n",
    "lr_schedule = keras.optimizers.schedules.ExponentialDecay(\n",
    "    initial_learning_rate, decay_steps=100000, decay_rate=0.96, staircase=True\n",
    ")\n",
    "model.compile(\n",
    "    loss=\"binary_crossentropy\",\n",
    "    optimizer=keras.optimizers.Adam(learning_rate=lr_schedule),\n",
    "    metrics=[\"acc\"],\n",
    ")\n",
    "\n",
    "# Define callbacks.\n",
    "checkpoint_cb = keras.callbacks.ModelCheckpoint(\n",
    "    \"../neural_summary/3d_image_classification.h5\", save_best_only=True\n",
    ")\n",
    "early_stopping_cb = keras.callbacks.EarlyStopping(\n",
    "    monitor=\"val_acc\", patience=15)\n",
    "\n",
    "# Train the model, doing validation at the end of each epoch\n",
    "epochs = 20\n",
    "model.fit(\n",
    "    train_dataset,\n",
    "    validation_data=validation_dataset,\n",
    "    epochs=epochs,\n",
    "    shuffle=True,\n",
    "    verbose=2,\n",
    "    callbacks=[checkpoint_cb, early_stopping_cb],\n",
    ")"
   ]
  },
  {
   "cell_type": "code",
   "execution_count": 100,
   "metadata": {},
   "outputs": [
    {
     "data": {
      "image/png": "[encoded data removed]",
      "text/plain": [
       "<Figure size 1440x216 with 2 Axes>"
      ]
     },
     "metadata": {
      "needs_background": "light"
     },
     "output_type": "display_data"
    }
   ],
   "source": [
    "fig, ax = plt.subplots(1, 2, figsize=(20, 3))\n",
    "ax = ax.ravel()\n",
    "\n",
    "for i, metric in enumerate([\"acc\", \"loss\"]):\n",
    "    ax[i].plot(model.history.history[metric])\n",
    "    ax[i].plot(model.history.history[\"val_\" + metric])\n",
    "    ax[i].set_title(\"Model {}\".format(metric))\n",
    "    ax[i].set_xlabel(\"epochs\")\n",
    "    ax[i].set_ylabel(metric)\n",
    "    ax[i].legend([\"train\", \"val\"])\n",
    "fig.savefig('../neural_summary/net_performance.jpg')"
   ]
  },
  {
   "cell_type": "code",
   "execution_count": 103,
   "metadata": {},
   "outputs": [
    {
     "data": {
      "text/plain": [
       "0.8018823511460248"
      ]
     },
     "execution_count": 103,
     "metadata": {},
     "output_type": "execute_result"
    }
   ],
   "source": [
    "np.sum(model.history.history[\"acc\"])/len(model.history.history[\"acc\"]) # Precisión en entrenamiento"
   ]
  },
  {
   "cell_type": "code",
   "execution_count": 107,
   "metadata": {},
   "outputs": [
    {
     "name": "stdout",
     "output_type": "stream",
     "text": [
      "118/118 [==============================] - 6s 45ms/step - loss: 1.9474 - acc: 0.6441\n"
     ]
    },
    {
     "data": {
      "text/plain": [
       "[1.9473663568496704, 0.6440678238868713]"
      ]
     },
     "execution_count": 107,
     "metadata": {},
     "output_type": "execute_result"
    }
   ],
   "source": [
    "model.evaluate(x_val, y_val, batch_size=1) # Precisión en el conjunto de validación"
   ]
  },
  {
   "cell_type": "code",
   "execution_count": 108,
   "metadata": {},
   "outputs": [],
   "source": [
    "# La red se sobre entrenó, maybe porque son pocos datos en entrenamiento"
   ]
  },
  {
   "cell_type": "code",
   "execution_count": null,
   "metadata": {},
   "outputs": [],
   "source": []
  }
 ],
 "metadata": {
  "kernelspec": {
   "display_name": "Python 3",
   "language": "python",
   "name": "python3"
  },
  "language_info": {
   "codemirror_mode": {
    "name": "ipython",
    "version": 3
   },
   "file_extension": ".py",
   "mimetype": "text/x-python",
   "name": "python",
   "nbconvert_exporter": "python",
   "pygments_lexer": "ipython3",
   "version": "3.9.5"
  }
 },
 "nbformat": 4,
 "nbformat_minor": 4
}
