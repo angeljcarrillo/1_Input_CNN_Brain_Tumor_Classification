{
 "cells": [
  {
   "cell_type": "code",
   "execution_count": 104,
   "metadata": {},
   "outputs": [],
   "source": [
    "import os\n",
    "import numpy as np\n",
    "import tensorflow as tf\n",
    "import nibabel as nib\n",
    "from scipy import ndimage\n",
    "from tensorflow import keras\n",
    "from tensorflow.keras import layers\n",
    "import re\n",
    "import matplotlib.pyplot as plt\n",
    "import matplotlib as mpl\n",
    "import random"
   ]
  },
  {
   "cell_type": "code",
   "execution_count": 105,
   "metadata": {},
   "outputs": [
    {
     "name": "stdout",
     "output_type": "stream",
     "text": [
      "Num GPUs Available:  1\n"
     ]
    }
   ],
   "source": [
    "print(\"Num GPUs Available: \", len(tf.config.list_physical_devices('GPU')))"
   ]
  },
  {
   "cell_type": "code",
   "execution_count": 106,
   "metadata": {},
   "outputs": [],
   "source": [
    "def remove_store(base_path, files):\n",
    "    new_files = []\n",
    "    for j in files:\n",
    "        b_path = os.path.join(base_path, j)\n",
    "        if(os.path.isdir(b_path)):\n",
    "            new_files.append(b_path)\n",
    "    return new_files"
   ]
  },
  {
   "cell_type": "code",
   "execution_count": 107,
   "metadata": {},
   "outputs": [],
   "source": [
    "def get_data(tumor='LGG', pattern='t1'):\n",
    "    # Get patient folders\n",
    "    base_path = os.path.join('..', 'data', tumor)\n",
    "    patients = os.listdir(base_path)\n",
    "    p2 = remove_store(base_path, patients)\n",
    "    #print(p2)\n",
    "    #print(patients)\n",
    "    urls = []\n",
    "    for i in p2:\n",
    "        # Get files for each patient\n",
    "        # patient_path = os.path.join(base_path, i)\n",
    "        files = [v for v in os.listdir(i) if v != '.DS_Store']\n",
    "        #print(files)        \n",
    "        for j in files:\n",
    "            # m = re.match(r\"^(?!.*(t2|flair|seg)).*\", j)\n",
    "            m = pattern in j\n",
    "            if m:\n",
    "                urls.append(os.path.join(i, j))\n",
    "    # print(urls)\n",
    "    if(pattern == 't1'):\n",
    "        new_urls = [v for v in urls if 't1ce' not in v]\n",
    "    else:\n",
    "        new_urls = urls\n",
    "    return new_urls"
   ]
  },
  {
   "cell_type": "code",
   "execution_count": 108,
   "metadata": {},
   "outputs": [],
   "source": [
    "def read_nifti_file(filepath):\n",
    "    \"\"\"Read and load volume\"\"\"\n",
    "    # Read file\n",
    "    scan = nib.load(filepath)\n",
    "    # Get raw data\n",
    "    scan = scan.get_fdata()\n",
    "    return scan"
   ]
  },
  {
   "cell_type": "code",
   "execution_count": 109,
   "metadata": {},
   "outputs": [],
   "source": [
    "def resize_volume(img):\n",
    "    \"\"\"Resize across z-axis\"\"\"\n",
    "    # Set the desired depth\n",
    "    desired_depth = 64 # SLICES\n",
    "    desired_width = 128\n",
    "    desired_height = 128\n",
    "    # Get current depth\n",
    "    current_depth = img.shape[-1]\n",
    "    current_width = img.shape[0]\n",
    "    current_height = img.shape[1]\n",
    "    # Compute depth factor\n",
    "    depth = current_depth / desired_depth\n",
    "    width = current_width / desired_width\n",
    "    height = current_height / desired_height\n",
    "    depth_factor = 1 / depth\n",
    "    width_factor = 1 / width\n",
    "    height_factor = 1 / height\n",
    "    # Rotate\n",
    "    img = ndimage.rotate(img, 90, reshape=False)\n",
    "    # Resize across z-axis\n",
    "    img = ndimage.zoom(\n",
    "        img, (width_factor, height_factor, depth_factor), order=1)\n",
    "    return img"
   ]
  },
  {
   "cell_type": "code",
   "execution_count": 110,
   "metadata": {},
   "outputs": [],
   "source": [
    "def process_scan(path):\n",
    "    \"\"\"Read and resize volume\"\"\"\n",
    "    # Read scan\n",
    "    volume = read_nifti_file(path)\n",
    "    # Normalize\n",
    "    # Resize width, height and depth\n",
    "    volume = resize_volume(volume)\n",
    "    return volume"
   ]
  },
  {
   "cell_type": "code",
   "execution_count": 111,
   "metadata": {},
   "outputs": [],
   "source": [
    "## LGG HGG\n",
    "\n",
    "low_grade_paths = get_data(tumor='LGG', pattern='flair')\n",
    "high_grade_paths = get_data(tumor='HGG', pattern='flair')"
   ]
  },
  {
   "cell_type": "code",
   "execution_count": 112,
   "metadata": {},
   "outputs": [
    {
     "data": {
      "text/plain": [
       "['..\\\\data\\\\HGG\\\\BraTS20_Training_001\\\\BraTS20_Training_001_flair.nii.gz',\n",
       " '..\\\\data\\\\HGG\\\\BraTS20_Training_002\\\\BraTS20_Training_002_flair.nii.gz',\n",
       " '..\\\\data\\\\HGG\\\\BraTS20_Training_003\\\\BraTS20_Training_003_flair.nii.gz',\n",
       " '..\\\\data\\\\HGG\\\\BraTS20_Training_004\\\\BraTS20_Training_004_flair.nii.gz',\n",
       " '..\\\\data\\\\HGG\\\\BraTS20_Training_005\\\\BraTS20_Training_005_flair.nii.gz',\n",
       " '..\\\\data\\\\HGG\\\\BraTS20_Training_006\\\\BraTS20_Training_006_flair.nii.gz',\n",
       " '..\\\\data\\\\HGG\\\\BraTS20_Training_007\\\\BraTS20_Training_007_flair.nii.gz',\n",
       " '..\\\\data\\\\HGG\\\\BraTS20_Training_008\\\\BraTS20_Training_008_flair.nii.gz',\n",
       " '..\\\\data\\\\HGG\\\\BraTS20_Training_009\\\\BraTS20_Training_009_flair.nii.gz',\n",
       " '..\\\\data\\\\HGG\\\\BraTS20_Training_010\\\\BraTS20_Training_010_flair.nii.gz',\n",
       " '..\\\\data\\\\HGG\\\\BraTS20_Training_011\\\\BraTS20_Training_011_flair.nii.gz',\n",
       " '..\\\\data\\\\HGG\\\\BraTS20_Training_012\\\\BraTS20_Training_012_flair.nii.gz',\n",
       " '..\\\\data\\\\HGG\\\\BraTS20_Training_013\\\\BraTS20_Training_013_flair.nii.gz',\n",
       " '..\\\\data\\\\HGG\\\\BraTS20_Training_014\\\\BraTS20_Training_014_flair.nii.gz',\n",
       " '..\\\\data\\\\HGG\\\\BraTS20_Training_015\\\\BraTS20_Training_015_flair.nii.gz',\n",
       " '..\\\\data\\\\HGG\\\\BraTS20_Training_016\\\\BraTS20_Training_016_flair.nii.gz',\n",
       " '..\\\\data\\\\HGG\\\\BraTS20_Training_017\\\\BraTS20_Training_017_flair.nii.gz',\n",
       " '..\\\\data\\\\HGG\\\\BraTS20_Training_018\\\\BraTS20_Training_018_flair.nii.gz',\n",
       " '..\\\\data\\\\HGG\\\\BraTS20_Training_019\\\\BraTS20_Training_019_flair.nii.gz',\n",
       " '..\\\\data\\\\HGG\\\\BraTS20_Training_020\\\\BraTS20_Training_020_flair.nii.gz',\n",
       " '..\\\\data\\\\HGG\\\\BraTS20_Training_021\\\\BraTS20_Training_021_flair.nii.gz',\n",
       " '..\\\\data\\\\HGG\\\\BraTS20_Training_022\\\\BraTS20_Training_022_flair.nii.gz',\n",
       " '..\\\\data\\\\HGG\\\\BraTS20_Training_023\\\\BraTS20_Training_023_flair.nii.gz',\n",
       " '..\\\\data\\\\HGG\\\\BraTS20_Training_024\\\\BraTS20_Training_024_flair.nii.gz',\n",
       " '..\\\\data\\\\HGG\\\\BraTS20_Training_025\\\\BraTS20_Training_025_flair.nii.gz',\n",
       " '..\\\\data\\\\HGG\\\\BraTS20_Training_026\\\\BraTS20_Training_026_flair.nii.gz',\n",
       " '..\\\\data\\\\HGG\\\\BraTS20_Training_027\\\\BraTS20_Training_027_flair.nii.gz',\n",
       " '..\\\\data\\\\HGG\\\\BraTS20_Training_028\\\\BraTS20_Training_028_flair.nii.gz',\n",
       " '..\\\\data\\\\HGG\\\\BraTS20_Training_029\\\\BraTS20_Training_029_flair.nii.gz',\n",
       " '..\\\\data\\\\HGG\\\\BraTS20_Training_030\\\\BraTS20_Training_030_flair.nii.gz',\n",
       " '..\\\\data\\\\HGG\\\\BraTS20_Training_031\\\\BraTS20_Training_031_flair.nii.gz',\n",
       " '..\\\\data\\\\HGG\\\\BraTS20_Training_032\\\\BraTS20_Training_032_flair.nii.gz',\n",
       " '..\\\\data\\\\HGG\\\\BraTS20_Training_033\\\\BraTS20_Training_033_flair.nii.gz',\n",
       " '..\\\\data\\\\HGG\\\\BraTS20_Training_034\\\\BraTS20_Training_034_flair.nii.gz',\n",
       " '..\\\\data\\\\HGG\\\\BraTS20_Training_035\\\\BraTS20_Training_035_flair.nii.gz',\n",
       " '..\\\\data\\\\HGG\\\\BraTS20_Training_036\\\\BraTS20_Training_036_flair.nii.gz',\n",
       " '..\\\\data\\\\HGG\\\\BraTS20_Training_037\\\\BraTS20_Training_037_flair.nii.gz',\n",
       " '..\\\\data\\\\HGG\\\\BraTS20_Training_038\\\\BraTS20_Training_038_flair.nii.gz',\n",
       " '..\\\\data\\\\HGG\\\\BraTS20_Training_039\\\\BraTS20_Training_039_flair.nii.gz',\n",
       " '..\\\\data\\\\HGG\\\\BraTS20_Training_040\\\\BraTS20_Training_040_flair.nii.gz',\n",
       " '..\\\\data\\\\HGG\\\\BraTS20_Training_041\\\\BraTS20_Training_041_flair.nii.gz',\n",
       " '..\\\\data\\\\HGG\\\\BraTS20_Training_042\\\\BraTS20_Training_042_flair.nii.gz',\n",
       " '..\\\\data\\\\HGG\\\\BraTS20_Training_043\\\\BraTS20_Training_043_flair.nii.gz',\n",
       " '..\\\\data\\\\HGG\\\\BraTS20_Training_044\\\\BraTS20_Training_044_flair.nii.gz',\n",
       " '..\\\\data\\\\HGG\\\\BraTS20_Training_045\\\\BraTS20_Training_045_flair.nii.gz',\n",
       " '..\\\\data\\\\HGG\\\\BraTS20_Training_046\\\\BraTS20_Training_046_flair.nii.gz',\n",
       " '..\\\\data\\\\HGG\\\\BraTS20_Training_047\\\\BraTS20_Training_047_flair.nii.gz',\n",
       " '..\\\\data\\\\HGG\\\\BraTS20_Training_048\\\\BraTS20_Training_048_flair.nii.gz',\n",
       " '..\\\\data\\\\HGG\\\\BraTS20_Training_049\\\\BraTS20_Training_049_flair.nii.gz',\n",
       " '..\\\\data\\\\HGG\\\\BraTS20_Training_050\\\\BraTS20_Training_050_flair.nii.gz',\n",
       " '..\\\\data\\\\HGG\\\\BraTS20_Training_051\\\\BraTS20_Training_051_flair.nii.gz',\n",
       " '..\\\\data\\\\HGG\\\\BraTS20_Training_052\\\\BraTS20_Training_052_flair.nii.gz',\n",
       " '..\\\\data\\\\HGG\\\\BraTS20_Training_053\\\\BraTS20_Training_053_flair.nii.gz',\n",
       " '..\\\\data\\\\HGG\\\\BraTS20_Training_054\\\\BraTS20_Training_054_flair.nii.gz',\n",
       " '..\\\\data\\\\HGG\\\\BraTS20_Training_055\\\\BraTS20_Training_055_flair.nii.gz',\n",
       " '..\\\\data\\\\HGG\\\\BraTS20_Training_056\\\\BraTS20_Training_056_flair.nii.gz',\n",
       " '..\\\\data\\\\HGG\\\\BraTS20_Training_057\\\\BraTS20_Training_057_flair.nii.gz',\n",
       " '..\\\\data\\\\HGG\\\\BraTS20_Training_058\\\\BraTS20_Training_058_flair.nii.gz',\n",
       " '..\\\\data\\\\HGG\\\\BraTS20_Training_059\\\\BraTS20_Training_059_flair.nii.gz',\n",
       " '..\\\\data\\\\HGG\\\\BraTS20_Training_060\\\\BraTS20_Training_060_flair.nii.gz',\n",
       " '..\\\\data\\\\HGG\\\\BraTS20_Training_061\\\\BraTS20_Training_061_flair.nii.gz',\n",
       " '..\\\\data\\\\HGG\\\\BraTS20_Training_062\\\\BraTS20_Training_062_flair.nii.gz',\n",
       " '..\\\\data\\\\HGG\\\\BraTS20_Training_063\\\\BraTS20_Training_063_flair.nii.gz',\n",
       " '..\\\\data\\\\HGG\\\\BraTS20_Training_064\\\\BraTS20_Training_064_flair.nii.gz',\n",
       " '..\\\\data\\\\HGG\\\\BraTS20_Training_065\\\\BraTS20_Training_065_flair.nii.gz',\n",
       " '..\\\\data\\\\HGG\\\\BraTS20_Training_066\\\\BraTS20_Training_066_flair.nii.gz',\n",
       " '..\\\\data\\\\HGG\\\\BraTS20_Training_067\\\\BraTS20_Training_067_flair.nii.gz',\n",
       " '..\\\\data\\\\HGG\\\\BraTS20_Training_068\\\\BraTS20_Training_068_flair.nii.gz',\n",
       " '..\\\\data\\\\HGG\\\\BraTS20_Training_069\\\\BraTS20_Training_069_flair.nii.gz',\n",
       " '..\\\\data\\\\HGG\\\\BraTS20_Training_070\\\\BraTS20_Training_070_flair.nii.gz',\n",
       " '..\\\\data\\\\HGG\\\\BraTS20_Training_071\\\\BraTS20_Training_071_flair.nii.gz',\n",
       " '..\\\\data\\\\HGG\\\\BraTS20_Training_072\\\\BraTS20_Training_072_flair.nii.gz',\n",
       " '..\\\\data\\\\HGG\\\\BraTS20_Training_073\\\\BraTS20_Training_073_flair.nii.gz',\n",
       " '..\\\\data\\\\HGG\\\\BraTS20_Training_074\\\\BraTS20_Training_074_flair.nii.gz',\n",
       " '..\\\\data\\\\HGG\\\\BraTS20_Training_075\\\\BraTS20_Training_075_flair.nii.gz',\n",
       " '..\\\\data\\\\HGG\\\\BraTS20_Training_076\\\\BraTS20_Training_076_flair.nii.gz',\n",
       " '..\\\\data\\\\HGG\\\\BraTS20_Training_077\\\\BraTS20_Training_077_flair.nii.gz',\n",
       " '..\\\\data\\\\HGG\\\\BraTS20_Training_078\\\\BraTS20_Training_078_flair.nii.gz',\n",
       " '..\\\\data\\\\HGG\\\\BraTS20_Training_079\\\\BraTS20_Training_079_flair.nii.gz',\n",
       " '..\\\\data\\\\HGG\\\\BraTS20_Training_080\\\\BraTS20_Training_080_flair.nii.gz',\n",
       " '..\\\\data\\\\HGG\\\\BraTS20_Training_081\\\\BraTS20_Training_081_flair.nii.gz',\n",
       " '..\\\\data\\\\HGG\\\\BraTS20_Training_082\\\\BraTS20_Training_082_flair.nii.gz',\n",
       " '..\\\\data\\\\HGG\\\\BraTS20_Training_083\\\\BraTS20_Training_083_flair.nii.gz',\n",
       " '..\\\\data\\\\HGG\\\\BraTS20_Training_084\\\\BraTS20_Training_084_flair.nii.gz',\n",
       " '..\\\\data\\\\HGG\\\\BraTS20_Training_085\\\\BraTS20_Training_085_flair.nii.gz',\n",
       " '..\\\\data\\\\HGG\\\\BraTS20_Training_086\\\\BraTS20_Training_086_flair.nii.gz',\n",
       " '..\\\\data\\\\HGG\\\\BraTS20_Training_087\\\\BraTS20_Training_087_flair.nii.gz',\n",
       " '..\\\\data\\\\HGG\\\\BraTS20_Training_088\\\\BraTS20_Training_088_flair.nii.gz',\n",
       " '..\\\\data\\\\HGG\\\\BraTS20_Training_089\\\\BraTS20_Training_089_flair.nii.gz',\n",
       " '..\\\\data\\\\HGG\\\\BraTS20_Training_090\\\\BraTS20_Training_090_flair.nii.gz',\n",
       " '..\\\\data\\\\HGG\\\\BraTS20_Training_091\\\\BraTS20_Training_091_flair.nii.gz',\n",
       " '..\\\\data\\\\HGG\\\\BraTS20_Training_092\\\\BraTS20_Training_092_flair.nii.gz',\n",
       " '..\\\\data\\\\HGG\\\\BraTS20_Training_093\\\\BraTS20_Training_093_flair.nii.gz',\n",
       " '..\\\\data\\\\HGG\\\\BraTS20_Training_094\\\\BraTS20_Training_094_flair.nii.gz',\n",
       " '..\\\\data\\\\HGG\\\\BraTS20_Training_095\\\\BraTS20_Training_095_flair.nii.gz',\n",
       " '..\\\\data\\\\HGG\\\\BraTS20_Training_096\\\\BraTS20_Training_096_flair.nii.gz',\n",
       " '..\\\\data\\\\HGG\\\\BraTS20_Training_097\\\\BraTS20_Training_097_flair.nii.gz',\n",
       " '..\\\\data\\\\HGG\\\\BraTS20_Training_098\\\\BraTS20_Training_098_flair.nii.gz',\n",
       " '..\\\\data\\\\HGG\\\\BraTS20_Training_099\\\\BraTS20_Training_099_flair.nii.gz',\n",
       " '..\\\\data\\\\HGG\\\\BraTS20_Training_100\\\\BraTS20_Training_100_flair.nii.gz',\n",
       " '..\\\\data\\\\HGG\\\\BraTS20_Training_101\\\\BraTS20_Training_101_flair.nii.gz',\n",
       " '..\\\\data\\\\HGG\\\\BraTS20_Training_102\\\\BraTS20_Training_102_flair.nii.gz',\n",
       " '..\\\\data\\\\HGG\\\\BraTS20_Training_103\\\\BraTS20_Training_103_flair.nii.gz',\n",
       " '..\\\\data\\\\HGG\\\\BraTS20_Training_104\\\\BraTS20_Training_104_flair.nii.gz',\n",
       " '..\\\\data\\\\HGG\\\\BraTS20_Training_105\\\\BraTS20_Training_105_flair.nii.gz',\n",
       " '..\\\\data\\\\HGG\\\\BraTS20_Training_106\\\\BraTS20_Training_106_flair.nii.gz',\n",
       " '..\\\\data\\\\HGG\\\\BraTS20_Training_107\\\\BraTS20_Training_107_flair.nii.gz',\n",
       " '..\\\\data\\\\HGG\\\\BraTS20_Training_108\\\\BraTS20_Training_108_flair.nii.gz',\n",
       " '..\\\\data\\\\HGG\\\\BraTS20_Training_109\\\\BraTS20_Training_109_flair.nii.gz',\n",
       " '..\\\\data\\\\HGG\\\\BraTS20_Training_110\\\\BraTS20_Training_110_flair.nii.gz',\n",
       " '..\\\\data\\\\HGG\\\\BraTS20_Training_111\\\\BraTS20_Training_111_flair.nii.gz',\n",
       " '..\\\\data\\\\HGG\\\\BraTS20_Training_112\\\\BraTS20_Training_112_flair.nii.gz',\n",
       " '..\\\\data\\\\HGG\\\\BraTS20_Training_113\\\\BraTS20_Training_113_flair.nii.gz',\n",
       " '..\\\\data\\\\HGG\\\\BraTS20_Training_114\\\\BraTS20_Training_114_flair.nii.gz',\n",
       " '..\\\\data\\\\HGG\\\\BraTS20_Training_115\\\\BraTS20_Training_115_flair.nii.gz',\n",
       " '..\\\\data\\\\HGG\\\\BraTS20_Training_116\\\\BraTS20_Training_116_flair.nii.gz',\n",
       " '..\\\\data\\\\HGG\\\\BraTS20_Training_117\\\\BraTS20_Training_117_flair.nii.gz',\n",
       " '..\\\\data\\\\HGG\\\\BraTS20_Training_118\\\\BraTS20_Training_118_flair.nii.gz',\n",
       " '..\\\\data\\\\HGG\\\\BraTS20_Training_119\\\\BraTS20_Training_119_flair.nii.gz',\n",
       " '..\\\\data\\\\HGG\\\\BraTS20_Training_120\\\\BraTS20_Training_120_flair.nii.gz',\n",
       " '..\\\\data\\\\HGG\\\\BraTS20_Training_121\\\\BraTS20_Training_121_flair.nii.gz',\n",
       " '..\\\\data\\\\HGG\\\\BraTS20_Training_122\\\\BraTS20_Training_122_flair.nii.gz',\n",
       " '..\\\\data\\\\HGG\\\\BraTS20_Training_123\\\\BraTS20_Training_123_flair.nii.gz',\n",
       " '..\\\\data\\\\HGG\\\\BraTS20_Training_124\\\\BraTS20_Training_124_flair.nii.gz',\n",
       " '..\\\\data\\\\HGG\\\\BraTS20_Training_125\\\\BraTS20_Training_125_flair.nii.gz',\n",
       " '..\\\\data\\\\HGG\\\\BraTS20_Training_126\\\\BraTS20_Training_126_flair.nii.gz',\n",
       " '..\\\\data\\\\HGG\\\\BraTS20_Training_127\\\\BraTS20_Training_127_flair.nii.gz',\n",
       " '..\\\\data\\\\HGG\\\\BraTS20_Training_128\\\\BraTS20_Training_128_flair.nii.gz',\n",
       " '..\\\\data\\\\HGG\\\\BraTS20_Training_129\\\\BraTS20_Training_129_flair.nii.gz',\n",
       " '..\\\\data\\\\HGG\\\\BraTS20_Training_130\\\\BraTS20_Training_130_flair.nii.gz',\n",
       " '..\\\\data\\\\HGG\\\\BraTS20_Training_131\\\\BraTS20_Training_131_flair.nii.gz',\n",
       " '..\\\\data\\\\HGG\\\\BraTS20_Training_132\\\\BraTS20_Training_132_flair.nii.gz',\n",
       " '..\\\\data\\\\HGG\\\\BraTS20_Training_133\\\\BraTS20_Training_133_flair.nii.gz',\n",
       " '..\\\\data\\\\HGG\\\\BraTS20_Training_134\\\\BraTS20_Training_134_flair.nii.gz',\n",
       " '..\\\\data\\\\HGG\\\\BraTS20_Training_135\\\\BraTS20_Training_135_flair.nii.gz',\n",
       " '..\\\\data\\\\HGG\\\\BraTS20_Training_136\\\\BraTS20_Training_136_flair.nii.gz',\n",
       " '..\\\\data\\\\HGG\\\\BraTS20_Training_137\\\\BraTS20_Training_137_flair.nii.gz',\n",
       " '..\\\\data\\\\HGG\\\\BraTS20_Training_138\\\\BraTS20_Training_138_flair.nii.gz',\n",
       " '..\\\\data\\\\HGG\\\\BraTS20_Training_139\\\\BraTS20_Training_139_flair.nii.gz',\n",
       " '..\\\\data\\\\HGG\\\\BraTS20_Training_140\\\\BraTS20_Training_140_flair.nii.gz',\n",
       " '..\\\\data\\\\HGG\\\\BraTS20_Training_141\\\\BraTS20_Training_141_flair.nii.gz',\n",
       " '..\\\\data\\\\HGG\\\\BraTS20_Training_142\\\\BraTS20_Training_142_flair.nii.gz',\n",
       " '..\\\\data\\\\HGG\\\\BraTS20_Training_143\\\\BraTS20_Training_143_flair.nii.gz',\n",
       " '..\\\\data\\\\HGG\\\\BraTS20_Training_144\\\\BraTS20_Training_144_flair.nii.gz',\n",
       " '..\\\\data\\\\HGG\\\\BraTS20_Training_145\\\\BraTS20_Training_145_flair.nii.gz',\n",
       " '..\\\\data\\\\HGG\\\\BraTS20_Training_146\\\\BraTS20_Training_146_flair.nii.gz',\n",
       " '..\\\\data\\\\HGG\\\\BraTS20_Training_147\\\\BraTS20_Training_147_flair.nii.gz',\n",
       " '..\\\\data\\\\HGG\\\\BraTS20_Training_148\\\\BraTS20_Training_148_flair.nii.gz',\n",
       " '..\\\\data\\\\HGG\\\\BraTS20_Training_149\\\\BraTS20_Training_149_flair.nii.gz',\n",
       " '..\\\\data\\\\HGG\\\\BraTS20_Training_150\\\\BraTS20_Training_150_flair.nii.gz',\n",
       " '..\\\\data\\\\HGG\\\\BraTS20_Training_151\\\\BraTS20_Training_151_flair.nii.gz',\n",
       " '..\\\\data\\\\HGG\\\\BraTS20_Training_152\\\\BraTS20_Training_152_flair.nii.gz',\n",
       " '..\\\\data\\\\HGG\\\\BraTS20_Training_153\\\\BraTS20_Training_153_flair.nii.gz',\n",
       " '..\\\\data\\\\HGG\\\\BraTS20_Training_154\\\\BraTS20_Training_154_flair.nii.gz',\n",
       " '..\\\\data\\\\HGG\\\\BraTS20_Training_155\\\\BraTS20_Training_155_flair.nii.gz',\n",
       " '..\\\\data\\\\HGG\\\\BraTS20_Training_156\\\\BraTS20_Training_156_flair.nii.gz',\n",
       " '..\\\\data\\\\HGG\\\\BraTS20_Training_157\\\\BraTS20_Training_157_flair.nii.gz',\n",
       " '..\\\\data\\\\HGG\\\\BraTS20_Training_158\\\\BraTS20_Training_158_flair.nii.gz',\n",
       " '..\\\\data\\\\HGG\\\\BraTS20_Training_159\\\\BraTS20_Training_159_flair.nii.gz',\n",
       " '..\\\\data\\\\HGG\\\\BraTS20_Training_160\\\\BraTS20_Training_160_flair.nii.gz',\n",
       " '..\\\\data\\\\HGG\\\\BraTS20_Training_161\\\\BraTS20_Training_161_flair.nii.gz',\n",
       " '..\\\\data\\\\HGG\\\\BraTS20_Training_162\\\\BraTS20_Training_162_flair.nii.gz',\n",
       " '..\\\\data\\\\HGG\\\\BraTS20_Training_163\\\\BraTS20_Training_163_flair.nii.gz',\n",
       " '..\\\\data\\\\HGG\\\\BraTS20_Training_164\\\\BraTS20_Training_164_flair.nii.gz',\n",
       " '..\\\\data\\\\HGG\\\\BraTS20_Training_165\\\\BraTS20_Training_165_flair.nii.gz',\n",
       " '..\\\\data\\\\HGG\\\\BraTS20_Training_166\\\\BraTS20_Training_166_flair.nii.gz',\n",
       " '..\\\\data\\\\HGG\\\\BraTS20_Training_167\\\\BraTS20_Training_167_flair.nii.gz',\n",
       " '..\\\\data\\\\HGG\\\\BraTS20_Training_168\\\\BraTS20_Training_168_flair.nii.gz',\n",
       " '..\\\\data\\\\HGG\\\\BraTS20_Training_169\\\\BraTS20_Training_169_flair.nii.gz',\n",
       " '..\\\\data\\\\HGG\\\\BraTS20_Training_170\\\\BraTS20_Training_170_flair.nii.gz',\n",
       " '..\\\\data\\\\HGG\\\\BraTS20_Training_171\\\\BraTS20_Training_171_flair.nii.gz',\n",
       " '..\\\\data\\\\HGG\\\\BraTS20_Training_172\\\\BraTS20_Training_172_flair.nii.gz',\n",
       " '..\\\\data\\\\HGG\\\\BraTS20_Training_173\\\\BraTS20_Training_173_flair.nii.gz',\n",
       " '..\\\\data\\\\HGG\\\\BraTS20_Training_174\\\\BraTS20_Training_174_flair.nii.gz',\n",
       " '..\\\\data\\\\HGG\\\\BraTS20_Training_175\\\\BraTS20_Training_175_flair.nii.gz',\n",
       " '..\\\\data\\\\HGG\\\\BraTS20_Training_176\\\\BraTS20_Training_176_flair.nii.gz',\n",
       " '..\\\\data\\\\HGG\\\\BraTS20_Training_177\\\\BraTS20_Training_177_flair.nii.gz',\n",
       " '..\\\\data\\\\HGG\\\\BraTS20_Training_178\\\\BraTS20_Training_178_flair.nii.gz',\n",
       " '..\\\\data\\\\HGG\\\\BraTS20_Training_179\\\\BraTS20_Training_179_flair.nii.gz',\n",
       " '..\\\\data\\\\HGG\\\\BraTS20_Training_180\\\\BraTS20_Training_180_flair.nii.gz',\n",
       " '..\\\\data\\\\HGG\\\\BraTS20_Training_181\\\\BraTS20_Training_181_flair.nii.gz',\n",
       " '..\\\\data\\\\HGG\\\\BraTS20_Training_182\\\\BraTS20_Training_182_flair.nii.gz',\n",
       " '..\\\\data\\\\HGG\\\\BraTS20_Training_183\\\\BraTS20_Training_183_flair.nii.gz',\n",
       " '..\\\\data\\\\HGG\\\\BraTS20_Training_184\\\\BraTS20_Training_184_flair.nii.gz',\n",
       " '..\\\\data\\\\HGG\\\\BraTS20_Training_185\\\\BraTS20_Training_185_flair.nii.gz',\n",
       " '..\\\\data\\\\HGG\\\\BraTS20_Training_186\\\\BraTS20_Training_186_flair.nii.gz',\n",
       " '..\\\\data\\\\HGG\\\\BraTS20_Training_187\\\\BraTS20_Training_187_flair.nii.gz',\n",
       " '..\\\\data\\\\HGG\\\\BraTS20_Training_188\\\\BraTS20_Training_188_flair.nii.gz',\n",
       " '..\\\\data\\\\HGG\\\\BraTS20_Training_189\\\\BraTS20_Training_189_flair.nii.gz',\n",
       " '..\\\\data\\\\HGG\\\\BraTS20_Training_190\\\\BraTS20_Training_190_flair.nii.gz',\n",
       " '..\\\\data\\\\HGG\\\\BraTS20_Training_191\\\\BraTS20_Training_191_flair.nii.gz',\n",
       " '..\\\\data\\\\HGG\\\\BraTS20_Training_192\\\\BraTS20_Training_192_flair.nii.gz',\n",
       " '..\\\\data\\\\HGG\\\\BraTS20_Training_193\\\\BraTS20_Training_193_flair.nii.gz',\n",
       " '..\\\\data\\\\HGG\\\\BraTS20_Training_194\\\\BraTS20_Training_194_flair.nii.gz',\n",
       " '..\\\\data\\\\HGG\\\\BraTS20_Training_195\\\\BraTS20_Training_195_flair.nii.gz',\n",
       " '..\\\\data\\\\HGG\\\\BraTS20_Training_196\\\\BraTS20_Training_196_flair.nii.gz',\n",
       " '..\\\\data\\\\HGG\\\\BraTS20_Training_197\\\\BraTS20_Training_197_flair.nii.gz',\n",
       " '..\\\\data\\\\HGG\\\\BraTS20_Training_198\\\\BraTS20_Training_198_flair.nii.gz',\n",
       " '..\\\\data\\\\HGG\\\\BraTS20_Training_199\\\\BraTS20_Training_199_flair.nii.gz',\n",
       " '..\\\\data\\\\HGG\\\\BraTS20_Training_200\\\\BraTS20_Training_200_flair.nii.gz',\n",
       " '..\\\\data\\\\HGG\\\\BraTS20_Training_201\\\\BraTS20_Training_201_flair.nii.gz',\n",
       " '..\\\\data\\\\HGG\\\\BraTS20_Training_202\\\\BraTS20_Training_202_flair.nii.gz',\n",
       " '..\\\\data\\\\HGG\\\\BraTS20_Training_203\\\\BraTS20_Training_203_flair.nii.gz',\n",
       " '..\\\\data\\\\HGG\\\\BraTS20_Training_204\\\\BraTS20_Training_204_flair.nii.gz',\n",
       " '..\\\\data\\\\HGG\\\\BraTS20_Training_205\\\\BraTS20_Training_205_flair.nii.gz',\n",
       " '..\\\\data\\\\HGG\\\\BraTS20_Training_206\\\\BraTS20_Training_206_flair.nii.gz',\n",
       " '..\\\\data\\\\HGG\\\\BraTS20_Training_207\\\\BraTS20_Training_207_flair.nii.gz',\n",
       " '..\\\\data\\\\HGG\\\\BraTS20_Training_208\\\\BraTS20_Training_208_flair.nii.gz',\n",
       " '..\\\\data\\\\HGG\\\\BraTS20_Training_209\\\\BraTS20_Training_209_flair.nii.gz',\n",
       " '..\\\\data\\\\HGG\\\\BraTS20_Training_210\\\\BraTS20_Training_210_flair.nii.gz',\n",
       " '..\\\\data\\\\HGG\\\\BraTS20_Training_211\\\\BraTS20_Training_211_flair.nii.gz',\n",
       " '..\\\\data\\\\HGG\\\\BraTS20_Training_212\\\\BraTS20_Training_212_flair.nii.gz',\n",
       " '..\\\\data\\\\HGG\\\\BraTS20_Training_213\\\\BraTS20_Training_213_flair.nii.gz',\n",
       " '..\\\\data\\\\HGG\\\\BraTS20_Training_214\\\\BraTS20_Training_214_flair.nii.gz',\n",
       " '..\\\\data\\\\HGG\\\\BraTS20_Training_215\\\\BraTS20_Training_215_flair.nii.gz',\n",
       " '..\\\\data\\\\HGG\\\\BraTS20_Training_216\\\\BraTS20_Training_216_flair.nii.gz',\n",
       " '..\\\\data\\\\HGG\\\\BraTS20_Training_217\\\\BraTS20_Training_217_flair.nii.gz',\n",
       " '..\\\\data\\\\HGG\\\\BraTS20_Training_218\\\\BraTS20_Training_218_flair.nii.gz',\n",
       " '..\\\\data\\\\HGG\\\\BraTS20_Training_219\\\\BraTS20_Training_219_flair.nii.gz',\n",
       " '..\\\\data\\\\HGG\\\\BraTS20_Training_220\\\\BraTS20_Training_220_flair.nii.gz',\n",
       " '..\\\\data\\\\HGG\\\\BraTS20_Training_221\\\\BraTS20_Training_221_flair.nii.gz',\n",
       " '..\\\\data\\\\HGG\\\\BraTS20_Training_222\\\\BraTS20_Training_222_flair.nii.gz',\n",
       " '..\\\\data\\\\HGG\\\\BraTS20_Training_223\\\\BraTS20_Training_223_flair.nii.gz',\n",
       " '..\\\\data\\\\HGG\\\\BraTS20_Training_224\\\\BraTS20_Training_224_flair.nii.gz',\n",
       " '..\\\\data\\\\HGG\\\\BraTS20_Training_225\\\\BraTS20_Training_225_flair.nii.gz',\n",
       " '..\\\\data\\\\HGG\\\\BraTS20_Training_226\\\\BraTS20_Training_226_flair.nii.gz',\n",
       " '..\\\\data\\\\HGG\\\\BraTS20_Training_227\\\\BraTS20_Training_227_flair.nii.gz',\n",
       " '..\\\\data\\\\HGG\\\\BraTS20_Training_228\\\\BraTS20_Training_228_flair.nii.gz',\n",
       " '..\\\\data\\\\HGG\\\\BraTS20_Training_229\\\\BraTS20_Training_229_flair.nii.gz',\n",
       " '..\\\\data\\\\HGG\\\\BraTS20_Training_230\\\\BraTS20_Training_230_flair.nii.gz',\n",
       " '..\\\\data\\\\HGG\\\\BraTS20_Training_231\\\\BraTS20_Training_231_flair.nii.gz',\n",
       " '..\\\\data\\\\HGG\\\\BraTS20_Training_232\\\\BraTS20_Training_232_flair.nii.gz',\n",
       " '..\\\\data\\\\HGG\\\\BraTS20_Training_233\\\\BraTS20_Training_233_flair.nii.gz',\n",
       " '..\\\\data\\\\HGG\\\\BraTS20_Training_234\\\\BraTS20_Training_234_flair.nii.gz',\n",
       " '..\\\\data\\\\HGG\\\\BraTS20_Training_236\\\\BraTS20_Training_236_flair.nii.gz',\n",
       " '..\\\\data\\\\HGG\\\\BraTS20_Training_237\\\\BraTS20_Training_237_flair.nii.gz',\n",
       " '..\\\\data\\\\HGG\\\\BraTS20_Training_238\\\\BraTS20_Training_238_flair.nii.gz',\n",
       " '..\\\\data\\\\HGG\\\\BraTS20_Training_239\\\\BraTS20_Training_239_flair.nii.gz',\n",
       " '..\\\\data\\\\HGG\\\\BraTS20_Training_240\\\\BraTS20_Training_240_flair.nii.gz',\n",
       " '..\\\\data\\\\HGG\\\\BraTS20_Training_241\\\\BraTS20_Training_241_flair.nii.gz',\n",
       " '..\\\\data\\\\HGG\\\\BraTS20_Training_242\\\\BraTS20_Training_242_flair.nii.gz',\n",
       " '..\\\\data\\\\HGG\\\\BraTS20_Training_243\\\\BraTS20_Training_243_flair.nii.gz',\n",
       " '..\\\\data\\\\HGG\\\\BraTS20_Training_244\\\\BraTS20_Training_244_flair.nii.gz',\n",
       " '..\\\\data\\\\HGG\\\\BraTS20_Training_245\\\\BraTS20_Training_245_flair.nii.gz',\n",
       " '..\\\\data\\\\HGG\\\\BraTS20_Training_246\\\\BraTS20_Training_246_flair.nii.gz',\n",
       " '..\\\\data\\\\HGG\\\\BraTS20_Training_247\\\\BraTS20_Training_247_flair.nii.gz',\n",
       " '..\\\\data\\\\HGG\\\\BraTS20_Training_248\\\\BraTS20_Training_248_flair.nii.gz',\n",
       " '..\\\\data\\\\HGG\\\\BraTS20_Training_249\\\\BraTS20_Training_249_flair.nii.gz',\n",
       " '..\\\\data\\\\HGG\\\\BraTS20_Training_250\\\\BraTS20_Training_250_flair.nii.gz',\n",
       " '..\\\\data\\\\HGG\\\\BraTS20_Training_251\\\\BraTS20_Training_251_flair.nii.gz',\n",
       " '..\\\\data\\\\HGG\\\\BraTS20_Training_252\\\\BraTS20_Training_252_flair.nii.gz',\n",
       " '..\\\\data\\\\HGG\\\\BraTS20_Training_253\\\\BraTS20_Training_253_flair.nii.gz',\n",
       " '..\\\\data\\\\HGG\\\\BraTS20_Training_254\\\\BraTS20_Training_254_flair.nii.gz',\n",
       " '..\\\\data\\\\HGG\\\\BraTS20_Training_255\\\\BraTS20_Training_255_flair.nii.gz',\n",
       " '..\\\\data\\\\HGG\\\\BraTS20_Training_256\\\\BraTS20_Training_256_flair.nii.gz',\n",
       " '..\\\\data\\\\HGG\\\\BraTS20_Training_257\\\\BraTS20_Training_257_flair.nii.gz',\n",
       " '..\\\\data\\\\HGG\\\\BraTS20_Training_258\\\\BraTS20_Training_258_flair.nii.gz',\n",
       " '..\\\\data\\\\HGG\\\\BraTS20_Training_259\\\\BraTS20_Training_259_flair.nii.gz',\n",
       " '..\\\\data\\\\HGG\\\\BraTS20_Training_336\\\\BraTS20_Training_336_flair.nii.gz',\n",
       " '..\\\\data\\\\HGG\\\\BraTS20_Training_337\\\\BraTS20_Training_337_flair.nii.gz',\n",
       " '..\\\\data\\\\HGG\\\\BraTS20_Training_338\\\\BraTS20_Training_338_flair.nii.gz',\n",
       " '..\\\\data\\\\HGG\\\\BraTS20_Training_339\\\\BraTS20_Training_339_flair.nii.gz',\n",
       " '..\\\\data\\\\HGG\\\\BraTS20_Training_340\\\\BraTS20_Training_340_flair.nii.gz',\n",
       " '..\\\\data\\\\HGG\\\\BraTS20_Training_341\\\\BraTS20_Training_341_flair.nii.gz',\n",
       " '..\\\\data\\\\HGG\\\\BraTS20_Training_342\\\\BraTS20_Training_342_flair.nii.gz',\n",
       " '..\\\\data\\\\HGG\\\\BraTS20_Training_343\\\\BraTS20_Training_343_flair.nii.gz',\n",
       " '..\\\\data\\\\HGG\\\\BraTS20_Training_344\\\\BraTS20_Training_344_flair.nii.gz',\n",
       " '..\\\\data\\\\HGG\\\\BraTS20_Training_345\\\\BraTS20_Training_345_flair.nii.gz',\n",
       " '..\\\\data\\\\HGG\\\\BraTS20_Training_346\\\\BraTS20_Training_346_flair.nii.gz',\n",
       " '..\\\\data\\\\HGG\\\\BraTS20_Training_347\\\\BraTS20_Training_347_flair.nii.gz',\n",
       " '..\\\\data\\\\HGG\\\\BraTS20_Training_348\\\\BraTS20_Training_348_flair.nii.gz',\n",
       " '..\\\\data\\\\HGG\\\\BraTS20_Training_349\\\\BraTS20_Training_349_flair.nii.gz',\n",
       " '..\\\\data\\\\HGG\\\\BraTS20_Training_350\\\\BraTS20_Training_350_flair.nii.gz',\n",
       " '..\\\\data\\\\HGG\\\\BraTS20_Training_351\\\\BraTS20_Training_351_flair.nii.gz',\n",
       " '..\\\\data\\\\HGG\\\\BraTS20_Training_352\\\\BraTS20_Training_352_flair.nii.gz',\n",
       " '..\\\\data\\\\HGG\\\\BraTS20_Training_353\\\\BraTS20_Training_353_flair.nii.gz',\n",
       " '..\\\\data\\\\HGG\\\\BraTS20_Training_354\\\\BraTS20_Training_354_flair.nii.gz',\n",
       " '..\\\\data\\\\HGG\\\\BraTS20_Training_355\\\\BraTS20_Training_355_flair.nii.gz',\n",
       " '..\\\\data\\\\HGG\\\\BraTS20_Training_356\\\\BraTS20_Training_356_flair.nii.gz',\n",
       " '..\\\\data\\\\HGG\\\\BraTS20_Training_357\\\\BraTS20_Training_357_flair.nii.gz',\n",
       " '..\\\\data\\\\HGG\\\\BraTS20_Training_358\\\\BraTS20_Training_358_flair.nii.gz',\n",
       " '..\\\\data\\\\HGG\\\\BraTS20_Training_359\\\\BraTS20_Training_359_flair.nii.gz',\n",
       " '..\\\\data\\\\HGG\\\\BraTS20_Training_360\\\\BraTS20_Training_360_flair.nii.gz',\n",
       " '..\\\\data\\\\HGG\\\\BraTS20_Training_361\\\\BraTS20_Training_361_flair.nii.gz',\n",
       " '..\\\\data\\\\HGG\\\\BraTS20_Training_362\\\\BraTS20_Training_362_flair.nii.gz',\n",
       " '..\\\\data\\\\HGG\\\\BraTS20_Training_363\\\\BraTS20_Training_363_flair.nii.gz',\n",
       " '..\\\\data\\\\HGG\\\\BraTS20_Training_364\\\\BraTS20_Training_364_flair.nii.gz',\n",
       " '..\\\\data\\\\HGG\\\\BraTS20_Training_365\\\\BraTS20_Training_365_flair.nii.gz',\n",
       " '..\\\\data\\\\HGG\\\\BraTS20_Training_366\\\\BraTS20_Training_366_flair.nii.gz',\n",
       " '..\\\\data\\\\HGG\\\\BraTS20_Training_367\\\\BraTS20_Training_367_flair.nii.gz',\n",
       " '..\\\\data\\\\HGG\\\\BraTS20_Training_368\\\\BraTS20_Training_368_flair.nii.gz',\n",
       " '..\\\\data\\\\HGG\\\\BraTS20_Training_369\\\\BraTS20_Training_369_flair.nii.gz']"
      ]
     },
     "execution_count": 112,
     "metadata": {},
     "output_type": "execute_result"
    }
   ],
   "source": [
    "high_grade_paths"
   ]
  },
  {
   "cell_type": "code",
   "execution_count": 113,
   "metadata": {},
   "outputs": [],
   "source": [
    "# Read and process the scans.\n",
    "# Each scan is resized across height, width, and depth and rescaled.\n",
    "low_grade_scans = np.array([process_scan(path) for path in low_grade_paths])\n",
    "high_grade_scans = np.array([process_scan(path) for path in high_grade_paths])"
   ]
  },
  {
   "cell_type": "code",
   "execution_count": 114,
   "metadata": {},
   "outputs": [
    {
     "data": {
      "text/plain": [
       "(128, 128, 64)"
      ]
     },
     "execution_count": 114,
     "metadata": {},
     "output_type": "execute_result"
    }
   ],
   "source": [
    "low_grade_scans[0].shape"
   ]
  },
  {
   "cell_type": "code",
   "execution_count": 115,
   "metadata": {},
   "outputs": [
    {
     "data": {
      "text/plain": [
       "<matplotlib.image.AxesImage at 0x141da08eb20>"
      ]
     },
     "execution_count": 115,
     "metadata": {},
     "output_type": "execute_result"
    },
    {
     "data": {
      "image/png": "[encoded data removed]",
      "text/plain": [
       "<Figure size 432x288 with 1 Axes>"
      ]
     },
     "metadata": {
      "needs_background": "light"
     },
     "output_type": "display_data"
    }
   ],
   "source": [
    "plt.imshow(low_grade_scans[0][:,:,30], cmap=mpl.cm.gray)"
   ]
  },
  {
   "cell_type": "code",
   "execution_count": 116,
   "metadata": {},
   "outputs": [],
   "source": [
    "# For the CT scans having presence of viral pneumonia\n",
    "# assign 1, for the normal ones assign 0.\n",
    "low_grade_labels = np.array([1 for _ in range(len(low_grade_scans))])\n",
    "high_grade_labels = np.array([0 for _ in range(len(high_grade_scans))])"
   ]
  },
  {
   "cell_type": "code",
   "execution_count": 117,
   "metadata": {},
   "outputs": [],
   "source": [
    "# Split data in the ratio 70-30 for training and validation.\n",
    "x_train = np.concatenate((low_grade_scans[:50], high_grade_scans[:200]), axis=0)\n",
    "y_train = np.concatenate((low_grade_labels[:50], high_grade_labels[:200]), axis=0)\n",
    "x_val = np.concatenate((low_grade_scans[50:], high_grade_scans[200:]), axis=0)\n",
    "y_val = np.concatenate((low_grade_labels[50:], high_grade_labels[200:]), axis=0)"
   ]
  },
  {
   "cell_type": "code",
   "execution_count": 118,
   "metadata": {},
   "outputs": [],
   "source": [
    "def train_preprocessing(volume, label):\n",
    "    \"\"\"Process training data by rotating and adding a channel.\"\"\"\n",
    "    volume = tf.expand_dims(volume, axis=3)\n",
    "    return volume, label\n",
    "\n",
    "\n",
    "def validation_preprocessing(volume, label):\n",
    "    \"\"\"Process validation data by only adding a channel.\"\"\"\n",
    "    volume = tf.expand_dims(volume, axis=3)\n",
    "    return volume, label"
   ]
  },
  {
   "cell_type": "code",
   "execution_count": 119,
   "metadata": {},
   "outputs": [],
   "source": [
    "# Define data loaders.\n",
    "train_loader = tf.data.Dataset.from_tensor_slices((x_train, y_train))\n",
    "validation_loader = tf.data.Dataset.from_tensor_slices((x_val, y_val))"
   ]
  },
  {
   "cell_type": "code",
   "execution_count": 120,
   "metadata": {},
   "outputs": [],
   "source": [
    "batch_size = 2\n",
    "train_dataset = (\n",
    "    train_loader.shuffle(len(x_train))\n",
    "    .map(train_preprocessing)\n",
    "    .batch(batch_size)\n",
    "    .prefetch(2)\n",
    ")\n",
    "# Only rescale.\n",
    "validation_dataset = (\n",
    "    validation_loader.shuffle(len(x_val))\n",
    "    .map(validation_preprocessing)\n",
    "    .batch(batch_size)\n",
    "    .prefetch(2)\n",
    ")"
   ]
  },
  {
   "cell_type": "code",
   "execution_count": 121,
   "metadata": {},
   "outputs": [
    {
     "name": "stdout",
     "output_type": "stream",
     "text": [
      "Model: \"3dcnn\"\n",
      "_________________________________________________________________\n",
      "Layer (type)                 Output Shape              Param #   \n",
      "=================================================================\n",
      "input_4 (InputLayer)         [(None, 128, 128, 64, 1)] 0         \n",
      "_________________________________________________________________\n",
      "conv3d_12 (Conv3D)           (None, 126, 126, 62, 64)  1792      \n",
      "_________________________________________________________________\n",
      "max_pooling3d_12 (MaxPooling (None, 63, 63, 31, 64)    0         \n",
      "_________________________________________________________________\n",
      "batch_normalization_12 (Batc (None, 63, 63, 31, 64)    256       \n",
      "_________________________________________________________________\n",
      "conv3d_13 (Conv3D)           (None, 61, 61, 29, 64)    110656    \n",
      "_________________________________________________________________\n",
      "max_pooling3d_13 (MaxPooling (None, 30, 30, 14, 64)    0         \n",
      "_________________________________________________________________\n",
      "batch_normalization_13 (Batc (None, 30, 30, 14, 64)    256       \n",
      "_________________________________________________________________\n",
      "conv3d_14 (Conv3D)           (None, 28, 28, 12, 128)   221312    \n",
      "_________________________________________________________________\n",
      "max_pooling3d_14 (MaxPooling (None, 14, 14, 6, 128)    0         \n",
      "_________________________________________________________________\n",
      "batch_normalization_14 (Batc (None, 14, 14, 6, 128)    512       \n",
      "_________________________________________________________________\n",
      "conv3d_15 (Conv3D)           (None, 12, 12, 4, 256)    884992    \n",
      "_________________________________________________________________\n",
      "max_pooling3d_15 (MaxPooling (None, 6, 6, 2, 256)      0         \n",
      "_________________________________________________________________\n",
      "batch_normalization_15 (Batc (None, 6, 6, 2, 256)      1024      \n",
      "_________________________________________________________________\n",
      "global_average_pooling3d_3 ( (None, 256)               0         \n",
      "_________________________________________________________________\n",
      "dense_6 (Dense)              (None, 512)               131584    \n",
      "_________________________________________________________________\n",
      "dropout_3 (Dropout)          (None, 512)               0         \n",
      "_________________________________________________________________\n",
      "dense_7 (Dense)              (None, 1)                 513       \n",
      "=================================================================\n",
      "Total params: 1,352,897\n",
      "Trainable params: 1,351,873\n",
      "Non-trainable params: 1,024\n",
      "_________________________________________________________________\n"
     ]
    }
   ],
   "source": [
    "def get_model(width=128, height=128, depth=64):\n",
    "    \"\"\"Build a 3D convolutional neural network model.\"\"\"\n",
    "\n",
    "    inputs = keras.Input((width, height, depth, 1))\n",
    "\n",
    "    x = layers.Conv3D(filters=64, kernel_size=3, activation=\"relu\")(inputs)\n",
    "    x = layers.MaxPool3D(pool_size=2)(x)\n",
    "    x = layers.BatchNormalization()(x)\n",
    "\n",
    "    x = layers.Conv3D(filters=64, kernel_size=3, activation=\"relu\")(x)\n",
    "    x = layers.MaxPool3D(pool_size=2)(x)\n",
    "    x = layers.BatchNormalization()(x)\n",
    "\n",
    "    x = layers.Conv3D(filters=128, kernel_size=3, activation=\"relu\")(x)\n",
    "    x = layers.MaxPool3D(pool_size=2)(x)\n",
    "    x = layers.BatchNormalization()(x)\n",
    "\n",
    "    x = layers.Conv3D(filters=256, kernel_size=3, activation=\"relu\")(x)\n",
    "    x = layers.MaxPool3D(pool_size=2)(x)\n",
    "    x = layers.BatchNormalization()(x)\n",
    "\n",
    "    x = layers.GlobalAveragePooling3D()(x)\n",
    "    x = layers.Dense(units=512, activation=\"relu\")(x)\n",
    "    x = layers.Dropout(0.3)(x)\n",
    "\n",
    "    outputs = layers.Dense(units=1, activation=\"sigmoid\")(x)\n",
    "\n",
    "    # Define the model.\n",
    "    model = keras.Model(inputs, outputs, name=\"3dcnn\")\n",
    "    return model\n",
    "\n",
    "\n",
    "# Build model.\n",
    "model = get_model(width=128, height=128, depth=64)\n",
    "model.summary()"
   ]
  },
  {
   "cell_type": "code",
   "execution_count": 122,
   "metadata": {},
   "outputs": [
    {
     "name": "stdout",
     "output_type": "stream",
     "text": [
      "Epoch 1/25\n",
      "125/125 - 40s - loss: 0.5884 - acc: 0.7440 - val_loss: 2.7944 - val_acc: 0.7797\n",
      "Epoch 2/25\n",
      "125/125 - 37s - loss: 0.5115 - acc: 0.7720 - val_loss: 2.2980 - val_acc: 0.7797\n",
      "Epoch 3/25\n",
      "125/125 - 37s - loss: 0.5202 - acc: 0.8080 - val_loss: 2.5993 - val_acc: 0.7712\n",
      "Epoch 4/25\n",
      "125/125 - 37s - loss: 0.5027 - acc: 0.8000 - val_loss: 2.0632 - val_acc: 0.7797\n",
      "Epoch 5/25\n",
      "125/125 - 37s - loss: 0.4544 - acc: 0.8160 - val_loss: 2.6576 - val_acc: 0.7797\n",
      "Epoch 6/25\n",
      "125/125 - 37s - loss: 0.4310 - acc: 0.8360 - val_loss: 2.2263 - val_acc: 0.7797\n",
      "Epoch 7/25\n",
      "125/125 - 37s - loss: 0.4680 - acc: 0.8120 - val_loss: 1.4596 - val_acc: 0.7627\n",
      "Epoch 8/25\n",
      "125/125 - 38s - loss: 0.4489 - acc: 0.8160 - val_loss: 2.4894 - val_acc: 0.7797\n",
      "Epoch 9/25\n",
      "125/125 - 37s - loss: 0.4271 - acc: 0.8360 - val_loss: 2.9125 - val_acc: 0.7797\n",
      "Epoch 10/25\n",
      "125/125 - 37s - loss: 0.4032 - acc: 0.8160 - val_loss: 3.5329 - val_acc: 0.7797\n",
      "Epoch 11/25\n",
      "125/125 - 38s - loss: 0.3763 - acc: 0.8280 - val_loss: 2.0434 - val_acc: 0.7542\n",
      "Epoch 12/25\n",
      "125/125 - 38s - loss: 0.3862 - acc: 0.8320 - val_loss: 4.2814 - val_acc: 0.7797\n",
      "Epoch 13/25\n",
      "125/125 - 37s - loss: 0.3767 - acc: 0.8360 - val_loss: 3.4154 - val_acc: 0.7797\n",
      "Epoch 14/25\n",
      "125/125 - 38s - loss: 0.3590 - acc: 0.8640 - val_loss: 2.1195 - val_acc: 0.7797\n",
      "Epoch 15/25\n",
      "125/125 - 37s - loss: 0.3823 - acc: 0.8400 - val_loss: 3.1684 - val_acc: 0.3814\n",
      "Epoch 16/25\n",
      "125/125 - 37s - loss: 0.3522 - acc: 0.8440 - val_loss: 3.4564 - val_acc: 0.7797\n",
      "Epoch 17/25\n",
      "125/125 - 38s - loss: 0.3572 - acc: 0.8440 - val_loss: 1.3388 - val_acc: 0.6864\n",
      "Epoch 18/25\n",
      "125/125 - 37s - loss: 0.3546 - acc: 0.8560 - val_loss: 4.3716 - val_acc: 0.7797\n",
      "Epoch 19/25\n",
      "125/125 - 37s - loss: 0.3092 - acc: 0.8680 - val_loss: 2.9416 - val_acc: 0.7797\n",
      "Epoch 20/25\n",
      "125/125 - 38s - loss: 0.3467 - acc: 0.8520 - val_loss: 2.6100 - val_acc: 0.7797\n",
      "Epoch 21/25\n",
      "125/125 - 37s - loss: 0.3475 - acc: 0.8560 - val_loss: 4.4241 - val_acc: 0.4153\n",
      "Epoch 22/25\n",
      "125/125 - 37s - loss: 0.3188 - acc: 0.8840 - val_loss: 2.5586 - val_acc: 0.7797\n",
      "Epoch 23/25\n",
      "125/125 - 37s - loss: 0.3584 - acc: 0.8480 - val_loss: 1.3578 - val_acc: 0.4661\n",
      "Epoch 24/25\n",
      "125/125 - 37s - loss: 0.3638 - acc: 0.8480 - val_loss: 4.3669 - val_acc: 0.5424\n",
      "Epoch 25/25\n",
      "125/125 - 37s - loss: 0.2962 - acc: 0.8680 - val_loss: 2.5107 - val_acc: 0.7288\n"
     ]
    },
    {
     "data": {
      "text/plain": [
       "<tensorflow.python.keras.callbacks.History at 0x141da20a3a0>"
      ]
     },
     "execution_count": 122,
     "metadata": {},
     "output_type": "execute_result"
    }
   ],
   "source": [
    "# Train model\n",
    "# Compile model.\n",
    "initial_learning_rate = 0.0001\n",
    "lr_schedule = keras.optimizers.schedules.ExponentialDecay(\n",
    "    initial_learning_rate, decay_steps=100000, decay_rate=0.96, staircase=True\n",
    ")\n",
    "model.compile(\n",
    "    loss=\"binary_crossentropy\",\n",
    "    optimizer=keras.optimizers.Adam(learning_rate=lr_schedule),\n",
    "    metrics=[\"acc\"],\n",
    ")\n",
    "\n",
    "# Define callbacks.\n",
    "checkpoint_cb = keras.callbacks.ModelCheckpoint(\n",
    "    \"../neural_summary/3d_image_classification.h5\", save_best_only=True\n",
    ")\n",
    "early_stopping_cb = keras.callbacks.EarlyStopping(\n",
    "    monitor=\"val_acc\", patience=25)\n",
    "\n",
    "# Train the model, doing validation at the end of each epoch\n",
    "epochs = 25\n",
    "model.fit(\n",
    "    train_dataset,\n",
    "    validation_data=validation_dataset,\n",
    "    epochs=epochs,\n",
    "    shuffle=True,\n",
    "    verbose=2,\n",
    "    callbacks=[checkpoint_cb, early_stopping_cb],\n",
    ")"
   ]
  },
  {
   "cell_type": "code",
   "execution_count": 123,
   "metadata": {},
   "outputs": [
    {
     "data": {
      "image/png": "[encoded data removed]",
      "text/plain": [
       "<Figure size 1440x216 with 2 Axes>"
      ]
     },
     "metadata": {
      "needs_background": "light"
     },
     "output_type": "display_data"
    }
   ],
   "source": [
    "fig, ax = plt.subplots(1, 2, figsize=(20, 3))\n",
    "ax = ax.ravel()\n",
    "\n",
    "for i, metric in enumerate([\"acc\", \"loss\"]):\n",
    "    ax[i].plot(model.history.history[metric])\n",
    "    ax[i].plot(model.history.history[\"val_\" + metric])\n",
    "    ax[i].set_title(\"Model {}\".format(metric))\n",
    "    ax[i].set_xlabel(\"epochs\")\n",
    "    ax[i].set_ylabel(metric)\n",
    "    ax[i].legend([\"train\", \"val\"])\n",
    "fig.savefig('../neural_summary/net_performance.jpg')"
   ]
  },
  {
   "cell_type": "code",
   "execution_count": 124,
   "metadata": {
    "scrolled": true
   },
   "outputs": [
    {
     "data": {
      "text/plain": [
       "0.4016212368011475"
      ]
     },
     "execution_count": 124,
     "metadata": {},
     "output_type": "execute_result"
    }
   ],
   "source": [
    "np.sum(model.history.history[\"loss\"])/len(model.history.history[\"loss\"]) # Loss en entrenamiento"
   ]
  },
  {
   "cell_type": "code",
   "execution_count": 125,
   "metadata": {},
   "outputs": [
    {
     "data": {
      "text/plain": [
       "0.832960000038147"
      ]
     },
     "execution_count": 125,
     "metadata": {},
     "output_type": "execute_result"
    }
   ],
   "source": [
    "np.sum(model.history.history[\"acc\"])/len(model.history.history[\"acc\"]) # Precisión en entrenamiento"
   ]
  },
  {
   "cell_type": "code",
   "execution_count": 126,
   "metadata": {},
   "outputs": [
    {
     "name": "stdout",
     "output_type": "stream",
     "text": [
      "118/118 [==============================] - 5s 42ms/step - loss: 2.5107 - acc: 0.7288\n"
     ]
    },
    {
     "data": {
      "text/plain": [
       "[2.51066255569458, 0.7288135886192322]"
      ]
     },
     "execution_count": 126,
     "metadata": {},
     "output_type": "execute_result"
    }
   ],
   "source": [
    "model.evaluate(x_val, y_val, batch_size=1) # Precisión en el conjunto de validación"
   ]
  },
  {
   "cell_type": "code",
   "execution_count": 27,
   "metadata": {},
   "outputs": [],
   "source": [
    "# La red se sobre entrenó, maybe porque son pocos datos en entrenamiento"
   ]
  },
  {
   "cell_type": "code",
   "execution_count": null,
   "metadata": {},
   "outputs": [],
   "source": []
  },
  {
   "cell_type": "code",
   "execution_count": null,
   "metadata": {},
   "outputs": [],
   "source": []
  },
  {
   "cell_type": "code",
   "execution_count": null,
   "metadata": {},
   "outputs": [],
   "source": []
  },
  {
   "cell_type": "code",
   "execution_count": null,
   "metadata": {},
   "outputs": [],
   "source": []
  },
  {
   "cell_type": "code",
   "execution_count": null,
   "metadata": {},
   "outputs": [],
   "source": []
  },
  {
   "cell_type": "code",
   "execution_count": null,
   "metadata": {},
   "outputs": [],
   "source": []
  },
  {
   "cell_type": "code",
   "execution_count": null,
   "metadata": {},
   "outputs": [],
   "source": []
  },
  {
   "cell_type": "code",
   "execution_count": null,
   "metadata": {},
   "outputs": [],
   "source": []
  },
  {
   "cell_type": "code",
   "execution_count": null,
   "metadata": {},
   "outputs": [],
   "source": []
  },
  {
   "cell_type": "code",
   "execution_count": null,
   "metadata": {},
   "outputs": [],
   "source": []
  }
 ],
 "metadata": {
  "kernelspec": {
   "display_name": "Python 3",
   "language": "python",
   "name": "python3"
  },
  "language_info": {
   "codemirror_mode": {
    "name": "ipython",
    "version": 3
   },
   "file_extension": ".py",
   "mimetype": "text/x-python",
   "name": "python",
   "nbconvert_exporter": "python",
   "pygments_lexer": "ipython3",
   "version": "3.9.5"
  }
 },
 "nbformat": 4,
 "nbformat_minor": 4
}
